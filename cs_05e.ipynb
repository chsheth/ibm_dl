{
  "nbformat": 4,
  "nbformat_minor": 0,
  "metadata": {
    "colab": {
      "name": "cs_05e.ipynb",
      "provenance": [],
      "collapsed_sections": [],
      "authorship_tag": "ABX9TyNcyilkKLReE4QMlxyWlrT3",
      "include_colab_link": true
    },
    "kernelspec": {
      "name": "python3",
      "display_name": "Python 3"
    },
    "language_info": {
      "name": "python"
    },
    "accelerator": "GPU"
  },
  "cells": [
    {
      "cell_type": "markdown",
      "metadata": {
        "id": "view-in-github",
        "colab_type": "text"
      },
      "source": [
        "<a href=\"https://colab.research.google.com/github/chsheth/ibm_dl/blob/main/cs_05e.ipynb\" target=\"_parent\"><img src=\"https://colab.research.google.com/assets/colab-badge.svg\" alt=\"Open In Colab\"/></a>"
      ]
    },
    {
      "cell_type": "code",
      "execution_count": 74,
      "metadata": {
        "id": "de8iKgEcID_l"
      },
      "outputs": [],
      "source": [
        "import tensorflow as tf\n",
        "import keras\n",
        "\n",
        "from tensorflow.keras.datasets import cifar10\n",
        "from tensorflow.keras.preprocessing.image import ImageDataGenerator\n",
        "from tensorflow.keras.models import Sequential\n",
        "from tensorflow.keras.layers import Dense, Dropout, Activation, Flatten, Conv2D, MaxPooling2D\n",
        "from tensorflow.keras.optimizers import RMSprop\n",
        "import matplotlib.pyplot as plt"
      ]
    },
    {
      "cell_type": "code",
      "source": [
        "(x_train, y_train), (x_test, y_test) = cifar10.load_data()"
      ],
      "metadata": {
        "id": "C9TdGN78L_yL"
      },
      "execution_count": 75,
      "outputs": []
    },
    {
      "cell_type": "code",
      "source": [
        "#x_train.shape #50000, 32, 32, 3\n",
        "#y_train.shape #50000, 1\n",
        "#x_test.shape #10000, 32, 32, 3\n",
        "#y_test.shape #10000,1"
      ],
      "metadata": {
        "id": "e40c63-aMKVT"
      },
      "execution_count": 76,
      "outputs": []
    },
    {
      "cell_type": "code",
      "source": [
        "dir(cifar10)"
      ],
      "metadata": {
        "colab": {
          "base_uri": "https://localhost:8080/"
        },
        "id": "SIvU-0SFMzKx",
        "outputId": "9c33dd05-03ae-4a9a-8f91-ccee1fa6385a"
      },
      "execution_count": 77,
      "outputs": [
        {
          "output_type": "execute_result",
          "data": {
            "text/plain": [
              "['__builtins__',\n",
              " '__cached__',\n",
              " '__doc__',\n",
              " '__file__',\n",
              " '__loader__',\n",
              " '__name__',\n",
              " '__package__',\n",
              " '__path__',\n",
              " '__spec__',\n",
              " '_sys',\n",
              " 'load_data']"
            ]
          },
          "metadata": {},
          "execution_count": 77
        }
      ]
    },
    {
      "cell_type": "code",
      "source": [
        "plt.imshow(x_train[100])"
      ],
      "metadata": {
        "colab": {
          "base_uri": "https://localhost:8080/",
          "height": 283
        },
        "id": "nQ-si7dxNdbr",
        "outputId": "ff070357-03f6-4612-f206-c1b25f70ab76"
      },
      "execution_count": 78,
      "outputs": [
        {
          "output_type": "execute_result",
          "data": {
            "text/plain": [
              "<matplotlib.image.AxesImage at 0x7f0e9bcdfd90>"
            ]
          },
          "metadata": {},
          "execution_count": 78
        },
        {
          "output_type": "display_data",
          "data": {
            "text/plain": [
              "<Figure size 432x288 with 1 Axes>"
            ],
            "image/png": "[encoded data removed]"
          },
          "metadata": {
            "needs_background": "light"
          }
        }
      ]
    },
    {
      "cell_type": "code",
      "source": [
        "import numpy as np\n",
        "np.unique(y_train, return_counts=True)"
      ],
      "metadata": {
        "colab": {
          "base_uri": "https://localhost:8080/"
        },
        "id": "-Esu-p0uODi_",
        "outputId": "3aa01774-acb5-4f5e-ebaa-5197fea9deb3"
      },
      "execution_count": 79,
      "outputs": [
        {
          "output_type": "execute_result",
          "data": {
            "text/plain": [
              "(array([0, 1, 2, 3, 4, 5, 6, 7, 8, 9], dtype=uint8),\n",
              " array([5000, 5000, 5000, 5000, 5000, 5000, 5000, 5000, 5000, 5000]))"
            ]
          },
          "metadata": {},
          "execution_count": 79
        }
      ]
    },
    {
      "cell_type": "code",
      "source": [
        "num_classes = 10\n",
        "\n",
        "y_trainc = keras.utils.np_utils.to_categorical(y_train, num_classes)\n",
        "y_testc = keras.utils.np_utils.to_categorical(y_test, num_classes)"
      ],
      "metadata": {
        "id": "F_4PsAxMOp2c"
      },
      "execution_count": 80,
      "outputs": []
    },
    {
      "cell_type": "code",
      "source": [
        "y_trainc[1:5, :]"
      ],
      "metadata": {
        "colab": {
          "base_uri": "https://localhost:8080/"
        },
        "id": "N8XBEie8P3uI",
        "outputId": "8d0f620e-f0ff-4e8e-ebdf-1d8eff99c605"
      },
      "execution_count": 81,
      "outputs": [
        {
          "output_type": "execute_result",
          "data": {
            "text/plain": [
              "array([[0., 0., 0., 0., 0., 0., 0., 0., 0., 1.],\n",
              "       [0., 0., 0., 0., 0., 0., 0., 0., 0., 1.],\n",
              "       [0., 0., 0., 0., 1., 0., 0., 0., 0., 0.],\n",
              "       [0., 1., 0., 0., 0., 0., 0., 0., 0., 0.]], dtype=float32)"
            ]
          },
          "metadata": {},
          "execution_count": 81
        }
      ]
    },
    {
      "cell_type": "code",
      "source": [
        "x_train[1]"
      ],
      "metadata": {
        "colab": {
          "base_uri": "https://localhost:8080/"
        },
        "id": "l1M7KM6SSfvF",
        "outputId": "918aaa8b-855a-4e60-dbab-f18e6a00792e"
      },
      "execution_count": 82,
      "outputs": [
        {
          "output_type": "execute_result",
          "data": {
            "text/plain": [
              "array([[[154, 177, 187],\n",
              "        [126, 137, 136],\n",
              "        [105, 104,  95],\n",
              "        ...,\n",
              "        [ 91,  95,  71],\n",
              "        [ 87,  90,  71],\n",
              "        [ 79,  81,  70]],\n",
              "\n",
              "       [[140, 160, 169],\n",
              "        [145, 153, 154],\n",
              "        [125, 125, 118],\n",
              "        ...,\n",
              "        [ 96,  99,  78],\n",
              "        [ 77,  80,  62],\n",
              "        [ 71,  73,  61]],\n",
              "\n",
              "       [[140, 155, 164],\n",
              "        [139, 146, 149],\n",
              "        [115, 115, 112],\n",
              "        ...,\n",
              "        [ 79,  82,  64],\n",
              "        [ 68,  70,  55],\n",
              "        [ 67,  69,  55]],\n",
              "\n",
              "       ...,\n",
              "\n",
              "       [[175, 167, 166],\n",
              "        [156, 154, 160],\n",
              "        [154, 160, 170],\n",
              "        ...,\n",
              "        [ 42,  34,  36],\n",
              "        [ 61,  53,  57],\n",
              "        [ 93,  83,  91]],\n",
              "\n",
              "       [[165, 154, 128],\n",
              "        [156, 152, 130],\n",
              "        [159, 161, 142],\n",
              "        ...,\n",
              "        [103,  93,  96],\n",
              "        [123, 114, 120],\n",
              "        [131, 121, 131]],\n",
              "\n",
              "       [[163, 148, 120],\n",
              "        [158, 148, 122],\n",
              "        [163, 156, 133],\n",
              "        ...,\n",
              "        [143, 133, 139],\n",
              "        [143, 134, 142],\n",
              "        [143, 133, 144]]], dtype=uint8)"
            ]
          },
          "metadata": {},
          "execution_count": 82
        }
      ]
    },
    {
      "cell_type": "code",
      "source": [
        "x_train = x_train.astype('float32')\n",
        "x_test = x_test.astype('float32')\n",
        "x_train /= 255\n",
        "x_train /= 255"
      ],
      "metadata": {
        "id": "kwaY7-UqTNjQ"
      },
      "execution_count": 83,
      "outputs": []
    },
    {
      "cell_type": "code",
      "source": [
        "x_train[1]"
      ],
      "metadata": {
        "colab": {
          "base_uri": "https://localhost:8080/"
        },
        "id": "Mke4amr1UCXZ",
        "outputId": "4b0a7d71-1274-48f6-8562-0a9cdae68c0c"
      },
      "execution_count": 84,
      "outputs": [
        {
          "output_type": "execute_result",
          "data": {
            "text/plain": [
              "array([[[0.00236832, 0.00272203, 0.00287582],\n",
              "        [0.00193772, 0.00210688, 0.0020915 ],\n",
              "        [0.00161476, 0.00159938, 0.00146098],\n",
              "        ...,\n",
              "        [0.00139946, 0.00146098, 0.00109189],\n",
              "        [0.00133795, 0.00138408, 0.00109189],\n",
              "        [0.00121492, 0.00124567, 0.00107651]],\n",
              "\n",
              "       [[0.00215302, 0.00246059, 0.002599  ],\n",
              "        [0.00222991, 0.00235294, 0.00236832],\n",
              "        [0.00192234, 0.00192234, 0.00181469],\n",
              "        ...,\n",
              "        [0.00147636, 0.00152249, 0.00119954],\n",
              "        [0.00118416, 0.0012303 , 0.00095348],\n",
              "        [0.00109189, 0.00112265, 0.0009381 ]],\n",
              "\n",
              "       [[0.00215302, 0.0023837 , 0.00252211],\n",
              "        [0.00213764, 0.00224529, 0.00229143],\n",
              "        [0.00176855, 0.00176855, 0.00172241],\n",
              "        ...,\n",
              "        [0.00121492, 0.00126105, 0.00098424],\n",
              "        [0.00104575, 0.00107651, 0.00084583],\n",
              "        [0.00103037, 0.00106113, 0.00084583]],\n",
              "\n",
              "       ...,\n",
              "\n",
              "       [[0.00269127, 0.00256824, 0.00255286],\n",
              "        [0.00239908, 0.00236832, 0.00246059],\n",
              "        [0.00236832, 0.00246059, 0.00261438],\n",
              "        ...,\n",
              "        [0.00064591, 0.00052288, 0.00055363],\n",
              "        [0.0009381 , 0.00081507, 0.00087659],\n",
              "        [0.00143022, 0.00127643, 0.00139946]],\n",
              "\n",
              "       [[0.00253749, 0.00236832, 0.00196847],\n",
              "        [0.00239908, 0.00233756, 0.00199923],\n",
              "        [0.00244521, 0.00247597, 0.00218378],\n",
              "        ...,\n",
              "        [0.00158401, 0.00143022, 0.00147636],\n",
              "        [0.00189158, 0.00175317, 0.00184544],\n",
              "        [0.00201461, 0.00186082, 0.00201461]],\n",
              "\n",
              "       [[0.00250673, 0.00227605, 0.00184544],\n",
              "        [0.00242983, 0.00227605, 0.0018762 ],\n",
              "        [0.00250673, 0.00239908, 0.00204537],\n",
              "        ...,\n",
              "        [0.00219915, 0.00204537, 0.00213764],\n",
              "        [0.00219915, 0.00206075, 0.00218378],\n",
              "        [0.00219915, 0.00204537, 0.00221453]]], dtype=float32)"
            ]
          },
          "metadata": {},
          "execution_count": 84
        }
      ]
    },
    {
      "cell_type": "code",
      "source": [
        "\n",
        "model_1 = Sequential()\n",
        "\n",
        "\n",
        "## 5x5 convolution with 2x2 stride and 32 filters\n",
        "model_1.add(Conv2D(32, (5, 5), strides = (2,2), padding='same',\n",
        "                 input_shape=x_train.shape[1:]))\n",
        "model_1.add(Activation('relu'))\n",
        "\n",
        "## Another 5x5 convolution with 2x2 stride and 32 filters\n",
        "model_1.add(Conv2D(32, (5, 5), strides = (2,2)))\n",
        "model_1.add(Activation('relu'))\n",
        "\n",
        "## 2x2 max pooling reduces to 3 x 3 x 32\n",
        "model_1.add(MaxPooling2D(pool_size=(2, 2)))\n",
        "model_1.add(Dropout(0.25))\n",
        "\n",
        "## Flatten turns 3x3x32 into 288x1\n",
        "model_1.add(Flatten())\n",
        "model_1.add(Dense(512))\n",
        "model_1.add(Activation('relu'))\n",
        "model_1.add(Dropout(0.5))\n",
        "model_1.add(Dense(num_classes))\n",
        "model_1.add(Activation('softmax'))\n",
        "\n",
        "model_1.summary()\n"
      ],
      "metadata": {
        "colab": {
          "base_uri": "https://localhost:8080/"
        },
        "id": "BNLAqSumU38s",
        "outputId": "58bb77d6-2654-47c9-8cbe-6b6b199f603a"
      },
      "execution_count": 85,
      "outputs": [
        {
          "output_type": "stream",
          "name": "stdout",
          "text": [
            "Model: \"sequential_9\"\n",
            "_________________________________________________________________\n",
            " Layer (type)                Output Shape              Param #   \n",
            "=================================================================\n",
            " conv2d_18 (Conv2D)          (None, 16, 16, 32)        2432      \n",
            "                                                                 \n",
            " activation_34 (Activation)  (None, 16, 16, 32)        0         \n",
            "                                                                 \n",
            " conv2d_19 (Conv2D)          (None, 6, 6, 32)          25632     \n",
            "                                                                 \n",
            " activation_35 (Activation)  (None, 6, 6, 32)          0         \n",
            "                                                                 \n",
            " max_pooling2d_9 (MaxPooling  (None, 3, 3, 32)         0         \n",
            " 2D)                                                             \n",
            "                                                                 \n",
            " dropout_18 (Dropout)        (None, 3, 3, 32)          0         \n",
            "                                                                 \n",
            " flatten_9 (Flatten)         (None, 288)               0         \n",
            "                                                                 \n",
            " dense_18 (Dense)            (None, 512)               147968    \n",
            "                                                                 \n",
            " activation_36 (Activation)  (None, 512)               0         \n",
            "                                                                 \n",
            " dropout_19 (Dropout)        (None, 512)               0         \n",
            "                                                                 \n",
            " dense_19 (Dense)            (None, 10)                5130      \n",
            "                                                                 \n",
            " activation_37 (Activation)  (None, 10)                0         \n",
            "                                                                 \n",
            "=================================================================\n",
            "Total params: 181,162\n",
            "Trainable params: 181,162\n",
            "Non-trainable params: 0\n",
            "_________________________________________________________________\n"
          ]
        }
      ]
    },
    {
      "cell_type": "code",
      "source": [
        "batch_size =32\n",
        "opt = RMSprop(learning_rate=0.0005, decay=1e-6)\n",
        "\n",
        "\n",
        "model_1.compile(optimizer=opt, loss='categorical_crossentropy', metrics=['accuracy'])\n",
        "model_1.fit(x_train, y_trainc, validation_data=(x_test, y_testc), batch_size=batch_size, epochs=15, shuffle=True)"
      ],
      "metadata": {
        "colab": {
          "base_uri": "https://localhost:8080/"
        },
        "id": "fci5yB0yY4X9",
        "outputId": "4aeb1f92-fcbd-4a9d-a1aa-25926c0105c1"
      },
      "execution_count": 86,
      "outputs": [
        {
          "output_type": "stream",
          "name": "stdout",
          "text": [
            "Epoch 1/15\n",
            "1563/1563 [==============================] - 12s 7ms/step - loss: 2.1396 - accuracy: 0.2070 - val_loss: 90452.5781 - val_accuracy: 0.1013\n",
            "Epoch 2/15\n",
            "1563/1563 [==============================] - 11s 7ms/step - loss: 2.0132 - accuracy: 0.2608 - val_loss: 79088.0469 - val_accuracy: 0.1154\n",
            "Epoch 3/15\n",
            "1563/1563 [==============================] - 11s 7ms/step - loss: 1.9290 - accuracy: 0.2933 - val_loss: 48906.2148 - val_accuracy: 0.2044\n",
            "Epoch 4/15\n",
            "1563/1563 [==============================] - 11s 7ms/step - loss: 1.8171 - accuracy: 0.3375 - val_loss: 55268.4531 - val_accuracy: 0.2252\n",
            "Epoch 5/15\n",
            "1563/1563 [==============================] - 11s 7ms/step - loss: 1.7349 - accuracy: 0.3719 - val_loss: 52764.2617 - val_accuracy: 0.2543\n",
            "Epoch 6/15\n",
            "1563/1563 [==============================] - 11s 7ms/step - loss: 1.6864 - accuracy: 0.3903 - val_loss: 58858.0039 - val_accuracy: 0.2528\n",
            "Epoch 7/15\n",
            "1563/1563 [==============================] - 10s 7ms/step - loss: 1.6480 - accuracy: 0.4048 - val_loss: 74938.6719 - val_accuracy: 0.2243\n",
            "Epoch 8/15\n",
            "1563/1563 [==============================] - 11s 7ms/step - loss: 1.6178 - accuracy: 0.4154 - val_loss: 80857.1484 - val_accuracy: 0.2184\n",
            "Epoch 9/15\n",
            "1563/1563 [==============================] - 11s 7ms/step - loss: 1.5924 - accuracy: 0.4265 - val_loss: 98057.3594 - val_accuracy: 0.1869\n",
            "Epoch 10/15\n",
            "1563/1563 [==============================] - 11s 7ms/step - loss: 1.5756 - accuracy: 0.4308 - val_loss: 104502.5000 - val_accuracy: 0.1891\n",
            "Epoch 11/15\n",
            "1563/1563 [==============================] - 10s 7ms/step - loss: 1.5582 - accuracy: 0.4372 - val_loss: 110120.1406 - val_accuracy: 0.1792\n",
            "Epoch 12/15\n",
            "1563/1563 [==============================] - 11s 7ms/step - loss: 1.5405 - accuracy: 0.4439 - val_loss: 118278.2344 - val_accuracy: 0.1721\n",
            "Epoch 13/15\n",
            "1563/1563 [==============================] - 11s 7ms/step - loss: 1.5250 - accuracy: 0.4522 - val_loss: 109435.2734 - val_accuracy: 0.1836\n",
            "Epoch 14/15\n",
            "1563/1563 [==============================] - 11s 7ms/step - loss: 1.5164 - accuracy: 0.4551 - val_loss: 133815.7344 - val_accuracy: 0.1687\n",
            "Epoch 15/15\n",
            "1563/1563 [==============================] - 10s 7ms/step - loss: 1.5047 - accuracy: 0.4603 - val_loss: 130734.8125 - val_accuracy: 0.1782\n"
          ]
        },
        {
          "output_type": "execute_result",
          "data": {
            "text/plain": [
              "<keras.callbacks.History at 0x7f0e2555b790>"
            ]
          },
          "metadata": {},
          "execution_count": 86
        }
      ]
    },
    {
      "cell_type": "code",
      "source": [
        ""
      ],
      "metadata": {
        "id": "hL-J2qFOU5Ff"
      },
      "execution_count": 86,
      "outputs": []
    }
  ]
}