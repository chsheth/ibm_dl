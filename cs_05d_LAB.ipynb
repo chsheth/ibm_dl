{
  "cells": [
    {
      "cell_type": "code",
      "execution_count": null,
      "id": "62ae92ba-a96f-4373-bb6e-d79ec42e60c1",
      "metadata": {
        "id": "62ae92ba-a96f-4373-bb6e-d79ec42e60c1"
      },
      "outputs": [],
      "source": [
        "# build a RF model on diabetes data\n",
        "# build FFNN model on diabetes data"
      ]
    },
    {
      "cell_type": "code",
      "execution_count": 1,
      "id": "8e58ff78-47d5-4a7a-8407-67ef3b7686ae",
      "metadata": {
        "id": "8e58ff78-47d5-4a7a-8407-67ef3b7686ae"
      },
      "outputs": [],
      "source": [
        "import warnings\n",
        "warnings.filterwarnings(\"ignore\")\n",
        "import numpy as np\n",
        "import pandas as pd\n",
        "import matplotlib.pyplot as plt\n",
        "import seaborn as sns\n",
        "from sklearn import metrics"
      ]
    },
    {
      "cell_type": "code",
      "execution_count": null,
      "id": "21031793-9610-484d-a125-1fe1840ece70",
      "metadata": {
        "id": "21031793-9610-484d-a125-1fe1840ece70"
      },
      "outputs": [],
      "source": [
        "from sklearn.model_selection import train_test_split\n",
        "from sklearn.preprocessing import StandardScaler\n",
        "from sklearn.metrics import confusion_matrix, precision_recall_curve, roc_auc_score, roc_curve, accuracy_score\n",
        "from sklearn.ensemble import RandomForestClassifier"
      ]
    },
    {
      "cell_type": "code",
      "execution_count": null,
      "id": "5b359a0e-a84d-4706-9f04-f75c6a7e02fc",
      "metadata": {
        "id": "5b359a0e-a84d-4706-9f04-f75c6a7e02fc"
      },
      "outputs": [],
      "source": [
        "names = [\"times_pregnant\", \"glucose_tolerance_test\", \"blood_pressure\", \"skin_thickness\", \"insulin\", \n",
        "         \"bmi\", \"pedigree_function\", \"age\", \"has_diabetes\"]\n",
        "diabetes_df = pd.read_csv('data/diabetes.csv', names=names, header=0)\n",
        "#diabetes_df = pd.read_csv('data/diabetes.csv', header=0)"
      ]
    },
    {
      "cell_type": "code",
      "execution_count": null,
      "id": "f78dcec4-a269-473c-9c84-bdbe1da11a97",
      "metadata": {
        "id": "f78dcec4-a269-473c-9c84-bdbe1da11a97"
      },
      "outputs": [],
      "source": [
        "diabetes_df.head()"
      ]
    },
    {
      "cell_type": "code",
      "execution_count": null,
      "id": "76831242-90f4-4167-8aa7-f63b614b5574",
      "metadata": {
        "id": "76831242-90f4-4167-8aa7-f63b614b5574"
      },
      "outputs": [],
      "source": [
        "print(diabetes_df.shape)\n",
        "diabetes_df.sample(5)"
      ]
    },
    {
      "cell_type": "code",
      "execution_count": null,
      "id": "4cb82458-6e89-4626-9d20-319747fbe8c6",
      "metadata": {
        "id": "4cb82458-6e89-4626-9d20-319747fbe8c6"
      },
      "outputs": [],
      "source": [
        "X = diabetes_df.iloc[:, :-1].values\n",
        "y = diabetes_df[\"has_diabetes\"].values"
      ]
    },
    {
      "cell_type": "code",
      "execution_count": null,
      "id": "9fe3fbde-59e3-4767-8147-c2bbcccda357",
      "metadata": {
        "id": "9fe3fbde-59e3-4767-8147-c2bbcccda357"
      },
      "outputs": [],
      "source": [
        "X_train, X_test, y_train, y_test = train_test_split(X, y, test_size=0.25, random_state=11111)"
      ]
    },
    {
      "cell_type": "code",
      "execution_count": null,
      "id": "4ef3b612-b53a-4320-afda-b6693c33e98c",
      "metadata": {
        "id": "4ef3b612-b53a-4320-afda-b6693c33e98c"
      },
      "outputs": [],
      "source": [
        "np.mean(y), np.mean(1-y)"
      ]
    },
    {
      "cell_type": "code",
      "execution_count": null,
      "id": "c406dfd8-42e8-47e4-bc7c-bbdbd9ef66c0",
      "metadata": {
        "id": "c406dfd8-42e8-47e4-bc7c-bbdbd9ef66c0"
      },
      "outputs": [],
      "source": [
        "rf_model = RandomForestClassifier(n_estimators=200)\n",
        "rf_model.fit(X_train, y_train)"
      ]
    },
    {
      "cell_type": "code",
      "execution_count": null,
      "id": "088b5e35-c8d4-4c6b-9808-5f4d71e0dcaf",
      "metadata": {
        "id": "088b5e35-c8d4-4c6b-9808-5f4d71e0dcaf"
      },
      "outputs": [],
      "source": [
        "# Make predictions on the test set - both \"hard\" predictions, and the scores (percent of trees voting yes)\n",
        "y_pred_class_rf = rf_model.predict(X_test)\n",
        "y_pred_prob_rf = rf_model.predict_proba(X_test)"
      ]
    },
    {
      "cell_type": "code",
      "execution_count": null,
      "id": "66674047-b31f-4bf3-89b0-a01d2fd1d9ea",
      "metadata": {
        "id": "66674047-b31f-4bf3-89b0-a01d2fd1d9ea"
      },
      "outputs": [],
      "source": [
        "print('accuracy is {:.3f}'.format(accuracy_score(y_test,y_pred_class_rf)))\n",
        "print('roc-auc is {:.3f}'.format(roc_auc_score(y_test,y_pred_prob_rf[:,1])))"
      ]
    },
    {
      "cell_type": "code",
      "execution_count": null,
      "id": "26427970-297f-4e4b-bdb5-33542e879f1a",
      "metadata": {
        "id": "26427970-297f-4e4b-bdb5-33542e879f1a"
      },
      "outputs": [],
      "source": [
        "metrics.plot_roc_curve(rf_model, X_test, y_test)"
      ]
    },
    {
      "cell_type": "code",
      "execution_count": null,
      "id": "ab47151d-5607-4bde-96ad-7677c3f9400b",
      "metadata": {
        "id": "ab47151d-5607-4bde-96ad-7677c3f9400b"
      },
      "outputs": [],
      "source": [
        ""
      ]
    },
    {
      "cell_type": "code",
      "execution_count": null,
      "id": "16ed918e-9b21-45da-8e43-188b22ee2c00",
      "metadata": {
        "id": "16ed918e-9b21-45da-8e43-188b22ee2c00"
      },
      "outputs": [],
      "source": [
        "## Import Keras objects for Deep Learning\n",
        "from tensorflow.keras.models  import Sequential\n",
        "from tensorflow.keras.layers import Input, Dense, Flatten, Dropout, BatchNormalization\n",
        "from tensorflow.keras.optimizers import Adam, SGD, RMSprop"
      ]
    },
    {
      "cell_type": "code",
      "execution_count": null,
      "id": "9ef890b5-22ba-450e-b989-c6a93c60426e",
      "metadata": {
        "id": "9ef890b5-22ba-450e-b989-c6a93c60426e"
      },
      "outputs": [],
      "source": [
        "## normalize the data\n",
        "normalizer = StandardScaler()\n",
        "X_train_norm = normalizer.fit_transform(X_train)\n",
        "X_test_norm = normalizer.transform(X_test)"
      ]
    },
    {
      "cell_type": "code",
      "execution_count": null,
      "id": "5f15ca3d-6c72-4779-84b5-05922d5477be",
      "metadata": {
        "id": "5f15ca3d-6c72-4779-84b5-05922d5477be"
      },
      "outputs": [],
      "source": [
        "model_1 = Sequential()\n",
        "model_1.add(Dense(12, input_shape=(8,), activation='sigmoid'))\n",
        "model_1.add(Dense(1, activation='sigmoid'))"
      ]
    },
    {
      "cell_type": "code",
      "execution_count": null,
      "id": "8cd22f2d-a847-43c7-84dd-1dc076b46cf1",
      "metadata": {
        "id": "8cd22f2d-a847-43c7-84dd-1dc076b46cf1"
      },
      "outputs": [],
      "source": [
        "model_1.summary()"
      ]
    },
    {
      "cell_type": "code",
      "execution_count": null,
      "id": "11302858-399f-4440-a208-bd27e687e86b",
      "metadata": {
        "id": "11302858-399f-4440-a208-bd27e687e86b"
      },
      "outputs": [],
      "source": [
        "model_1.compile(SGD(lr=0.003), \"binary_crossentropy\", metrics=[\"accuracy\"])\n",
        "run_hist_1 = model_1.fit(X_train_norm, y_train, validation_data=(X_test_norm, y_test), epochs=200)"
      ]
    },
    {
      "cell_type": "code",
      "execution_count": null,
      "id": "6e23a858-93a7-46f5-b9cb-d887d10ebca6",
      "metadata": {
        "id": "6e23a858-93a7-46f5-b9cb-d887d10ebca6"
      },
      "outputs": [],
      "source": [
        "y_pred_prob_nn_1 = model_1.predict(X_test_norm)\n",
        "\"\"\" Please use instead:* np.argmax(model.predict(x), axis=-1), if your model does multi-class classification (e.g. if it uses a softmax last-layer \n",
        "activation).* (model.predict(x) > 0.5).astype(\"int32\"), if your model does binary classification (e.g. if it uses a sigmoid last-layer activation).\n",
        "\"\"\"\n",
        "y_pred_class_nn_1 = (y_pred_prob_nn_1>0.5).astype(\"int32\")"
      ]
    },
    {
      "cell_type": "code",
      "execution_count": null,
      "id": "8e3a5798-9590-4b5c-bd7e-10fb7926c342",
      "metadata": {
        "id": "8e3a5798-9590-4b5c-bd7e-10fb7926c342"
      },
      "outputs": [],
      "source": [
        "y_pred_class_nn_1[:10]"
      ]
    },
    {
      "cell_type": "code",
      "execution_count": null,
      "id": "e35a2ac3-a38f-4411-8c83-c7fb6319ecc1",
      "metadata": {
        "id": "e35a2ac3-a38f-4411-8c83-c7fb6319ecc1"
      },
      "outputs": [],
      "source": [
        "y_pred_prob_nn_1[:10]"
      ]
    },
    {
      "cell_type": "code",
      "execution_count": null,
      "id": "a0720079-4c97-4738-ba47-14cf0671890c",
      "metadata": {
        "id": "a0720079-4c97-4738-ba47-14cf0671890c"
      },
      "outputs": [],
      "source": [
        "## Get accuracy\n",
        "print('accuracy is {:3f}'.format(accuracy_score(y_test, y_pred_class_nn_1)))\n",
        "print('roc-auc is {:3f}'.format(roc_auc_score(y_test, y_pred_prob_nn_1)))"
      ]
    },
    {
      "cell_type": "code",
      "execution_count": null,
      "id": "2d2ee891-a60c-44f5-aba5-10308ead3cdb",
      "metadata": {
        "id": "2d2ee891-a60c-44f5-aba5-10308ead3cdb"
      },
      "outputs": [],
      "source": [
        "## Plot ROC curve\n",
        "\n",
        "def plot_roc(y_test, y_pred, model_name):\n",
        "    fpr, tpr, thr = roc_curve(y_test, y_pred)\n",
        "    fig, ax = plt.subplots(figsize=(8, 8))\n",
        "    ax.plot(fpr, tpr, 'k-', label='auc-roc')\n",
        "    ax.plot([0, 1], [0, 1], 'k--', linewidth=.5, label='random')  # roc curve for random model\n",
        "    ax.grid(True)\n",
        "    ax.set(title='ROC Curve for {} on PIMA diabetes problem'.format(model_name),\n",
        "           xlim=[-0.01, 1.01], ylim=[-0.01, 1.01])\n",
        "    ax.legend()\n",
        "    \n",
        "plot_roc(y_test, y_pred_prob_nn_1, 'NN1')\n",
        "### END SOLUTION"
      ]
    },
    {
      "cell_type": "code",
      "execution_count": null,
      "id": "1078639e-aa69-448f-8e88-682308c15dba",
      "metadata": {
        "id": "1078639e-aa69-448f-8e88-682308c15dba"
      },
      "outputs": [],
      "source": [
        "## Plot losses\n",
        "# run_hist_1.history\n",
        "run_hist_1.history.keys()"
      ]
    },
    {
      "cell_type": "code",
      "execution_count": null,
      "id": "a790f0c9-9067-4324-99f7-13eb615118e0",
      "metadata": {
        "id": "a790f0c9-9067-4324-99f7-13eb615118e0"
      },
      "outputs": [],
      "source": [
        "fig, ax = plt.subplots()\n",
        "ax.plot(run_hist_1.history['loss'], 'r', marker='.', label='Train Loss')\n",
        "ax.plot(run_hist_1.history['val_loss'], 'b', marker='.', label='Validation Loss')\n",
        "ax.legend()"
      ]
    },
    {
      "cell_type": "code",
      "execution_count": null,
      "id": "c2c0e907-3034-4022-8301-be2887141203",
      "metadata": {
        "id": "c2c0e907-3034-4022-8301-be2887141203"
      },
      "outputs": [],
      "source": [
        "run_hist_1b = model_1.fit(X_train_norm, y_train, validation_data=(X_test_norm, y_test), epochs=1000)"
      ]
    },
    {
      "cell_type": "code",
      "execution_count": null,
      "id": "13b7805b-7008-48da-bf9a-56719189bb28",
      "metadata": {
        "id": "13b7805b-7008-48da-bf9a-56719189bb28"
      },
      "outputs": [],
      "source": [
        "n = len(run_hist_1.history[\"loss\"])\n",
        "m = len(run_hist_1b.history['loss'])\n",
        "fig, ax = plt.subplots(figsize=(16, 8))\n",
        "\n",
        "ax.plot(range(n),run_hist_1.history[\"loss\"],'r', marker='.', label=\"Train Loss - Run 1\")\n",
        "ax.plot(range(n,n+m),run_hist_1b.history[\"loss\"], 'hotpink', marker='.', label=\"Train Loss - Run 2\")\n",
        "\n",
        "ax.plot(range(n),run_hist_1.history[\"val_loss\"],'b', marker='.', label=\"Validation Loss - Run 1\")\n",
        "ax.plot(range(n,n+m),run_hist_1b.history[\"val_loss\"], 'LightSkyBlue', marker='.',  label=\"Validation Loss - Run 2\")\n",
        "\n",
        "ax.legend()"
      ]
    },
    {
      "cell_type": "markdown",
      "id": "6f5e448c-b277-4721-9e1b-30efefd494a0",
      "metadata": {
        "id": "6f5e448c-b277-4721-9e1b-30efefd494a0"
      },
      "source": [
        "### Exercise 2"
      ]
    },
    {
      "cell_type": "code",
      "execution_count": null,
      "id": "dd77056c-d11b-48e0-8e2c-6be34dfb0834",
      "metadata": {
        "id": "dd77056c-d11b-48e0-8e2c-6be34dfb0834"
      },
      "outputs": [],
      "source": [
        "model_2 = Sequential()\n",
        "model_2.add(Dense(6, input_shape=(8,), activation='relu'))\n",
        "model_2.add(Dense(6, activation='relu'))\n",
        "model_2.add(Dense(1, activation='sigmoid'))"
      ]
    },
    {
      "cell_type": "code",
      "execution_count": null,
      "id": "02ea5362-7b5d-4be5-9d34-f2eac1f8dd20",
      "metadata": {
        "id": "02ea5362-7b5d-4be5-9d34-f2eac1f8dd20"
      },
      "outputs": [],
      "source": [
        "model_2.summary()"
      ]
    },
    {
      "cell_type": "code",
      "execution_count": null,
      "id": "38409432-7404-47c3-a86f-04c8220a4b77",
      "metadata": {
        "id": "38409432-7404-47c3-a86f-04c8220a4b77"
      },
      "outputs": [],
      "source": [
        "model_2.compile(SGD(learning_rate=0.003), 'binary_crossentropy', metrics=['accuracy'])\n",
        "run_hist_2 = model_2.fit(X_train_norm, y_train, validation_data=(X_test_norm, y_test), epochs=1500)"
      ]
    },
    {
      "cell_type": "code",
      "execution_count": null,
      "id": "7a2bcd2c-c1de-459f-b832-0752a7c1dca2",
      "metadata": {
        "id": "7a2bcd2c-c1de-459f-b832-0752a7c1dca2"
      },
      "outputs": [],
      "source": [
        "y_pred_prob_nn_2 = model_2.predict(X_test_norm)\n",
        "y_pred_class_nn_2 =(y_pred_prob_nn_2>0.5).astype(\"int32\")\n",
        "\n",
        "print('')\n",
        "print('accuracy is {:.3f}'.format(accuracy_score(y_test,y_pred_class_nn_2)))\n",
        "print('roc-auc is {:.3f}'.format(roc_auc_score(y_test,y_pred_prob_nn_2)))"
      ]
    },
    {
      "cell_type": "code",
      "execution_count": null,
      "id": "331e58fe-ca45-4335-a68d-fcbb76693b12",
      "metadata": {
        "id": "331e58fe-ca45-4335-a68d-fcbb76693b12"
      },
      "outputs": [],
      "source": [
        "plot_roc(y_test, y_pred_prob_nn_2, 'NN-3')"
      ]
    },
    {
      "cell_type": "code",
      "execution_count": null,
      "id": "e7ba0da5-d0ca-4755-b17d-b998905ff26f",
      "metadata": {
        "id": "e7ba0da5-d0ca-4755-b17d-b998905ff26f"
      },
      "outputs": [],
      "source": [
        "run_hist_2.history.keys()"
      ]
    },
    {
      "cell_type": "code",
      "execution_count": null,
      "id": "0f7a9f06-5877-40eb-9523-cd67e45ea81e",
      "metadata": {
        "id": "0f7a9f06-5877-40eb-9523-cd67e45ea81e"
      },
      "outputs": [],
      "source": [
        "n = len(run_hist_2.history[\"loss\"])\n",
        "fig, ax = plt.subplots(figsize=(16,8))\n",
        "\n",
        "ax = fig.add_subplot(1, 2,1)\n",
        "ax.plot(run_hist_2.history['loss'], 'r', marker='.',label='Train Loss')\n",
        "ax.plot(run_hist_2.history['val_loss'], 'b', marker='.',label='Val Loss')\n",
        "ax.legend()\n",
        "ax.set_title('Loss over iterations')\n",
        "\n",
        "ax = fig.add_subplot(1, 2,2)\n",
        "ax.plot(run_hist_2.history[\"accuracy\"],'r.', label=\"Train Acc\")\n",
        "ax.plot(run_hist_2.history[\"val_accuracy\"],'b.', label=\"Validation Acc\")\n",
        "ax.legend(loc='lower right')\n",
        "ax.set_title('Accuracy over iterations')"
      ]
    },
    {
      "cell_type": "markdown",
      "id": "171b648c-8e1c-413e-913d-39f088894965",
      "metadata": {
        "id": "171b648c-8e1c-413e-913d-39f088894965"
      },
      "source": [
        "### Exercise 3\n",
        "\n",
        "- 3 hidden layers, 4, 5, 6 nodes\n",
        "- relu activation\n",
        "- sigmoid for last\n",
        "- learning rate = 0.003 and 500 epochs\n",
        "- graph the losses\n",
        "- plot roc"
      ]
    },
    {
      "cell_type": "code",
      "execution_count": null,
      "id": "dcd3aeac-78be-475d-a6a4-cf4e142ced93",
      "metadata": {
        "id": "dcd3aeac-78be-475d-a6a4-cf4e142ced93"
      },
      "outputs": [],
      "source": [
        "model_3 = Sequential()\n",
        "model_3.add(Dense(4, input_shape = (8,) , activation='relu'))\n",
        "model_3.add(Dense(5, activation = 'relu'))\n",
        "model_3.add(Dense(6, activation='relu'))\n",
        "model_3.add(Dense(1, activation='sigmoid'))          \n",
        "                  "
      ]
    },
    {
      "cell_type": "code",
      "execution_count": null,
      "id": "e6c2a062-6a4d-48d3-ba39-c0f96a475b2e",
      "metadata": {
        "id": "e6c2a062-6a4d-48d3-ba39-c0f96a475b2e"
      },
      "outputs": [],
      "source": [
        "model_3.summary()"
      ]
    },
    {
      "cell_type": "code",
      "execution_count": null,
      "id": "9f66ff51-3578-4081-b98a-07c8f34a3ea4",
      "metadata": {
        "id": "9f66ff51-3578-4081-b98a-07c8f34a3ea4"
      },
      "outputs": [],
      "source": [
        "model_3.compile(Adam(learning_rate=0.003), 'binary_crossentropy' ,metrics=[\"accuracy\"])\n",
        "run_hist_3 = model_3.fit(X_train_norm, y_train, validation_data=(X_test_norm, y_test), epochs = 1000)"
      ]
    },
    {
      "cell_type": "code",
      "execution_count": null,
      "id": "05ddf669-7a5d-4d2b-9674-b0c9a78a9b8e",
      "metadata": {
        "id": "05ddf669-7a5d-4d2b-9674-b0c9a78a9b8e"
      },
      "outputs": [],
      "source": [
        "y_pred_prob_nn_3 = model_3.predict(X_test_norm)\n",
        "y_pred_class_nn_3 = (y_pred_prob_nn_3>0.5).astype('int32')"
      ]
    },
    {
      "cell_type": "code",
      "execution_count": null,
      "id": "a4a34f6c-15e1-41d7-b02c-efea424cc42a",
      "metadata": {
        "id": "a4a34f6c-15e1-41d7-b02c-efea424cc42a"
      },
      "outputs": [],
      "source": [
        "print('accuracy: {}'.format(accuracy_score(y_test, y_pred_class_nn_3)))\n",
        "print('auc_roc: {}'.format(roc_auc_score(y_test, y_pred_prob_nn_3)))\n"
      ]
    },
    {
      "cell_type": "code",
      "execution_count": null,
      "id": "d9d10e48-f90f-4650-bc07-0b385d6fe868",
      "metadata": {
        "id": "d9d10e48-f90f-4650-bc07-0b385d6fe868"
      },
      "outputs": [],
      "source": [
        "run_hist_3.history.keys()\n",
        "\n"
      ]
    },
    {
      "cell_type": "code",
      "execution_count": null,
      "id": "22aa2d6f-1c86-496f-9d6d-1f0120f69726",
      "metadata": {
        "id": "22aa2d6f-1c86-496f-9d6d-1f0120f69726"
      },
      "outputs": [],
      "source": [
        "fig = plt.figure(figsize=(16,8))\n",
        "\n",
        "\n",
        "ax = fig.add_subplot(1,2,1)\n",
        "ax.plot(run_hist_3.history['loss'], 'r', marker= '.', label ='Train loss')\n",
        "ax.plot(run_hist_3.history['val_loss'], 'b', marker= '.', label ='Val loss')\n",
        "ax.legend()\n",
        "\n",
        "ax = fig.add_subplot(1,2,2)\n",
        "ax.plot(run_hist_3.history['accuracy'], 'r', marker= '.', label ='Train acc')\n",
        "ax.plot(run_hist_3.history['val_accuracy'], 'b', marker= '.', label ='Val acc')\n",
        "ax.legend()"
      ]
    },
    {
      "cell_type": "code",
      "execution_count": null,
      "id": "5379a5fe-135e-40b4-86d8-063e5d30ccc1",
      "metadata": {
        "id": "5379a5fe-135e-40b4-86d8-063e5d30ccc1"
      },
      "outputs": [],
      "source": [
        "fpr, tpr, thr = roc_curve(y_test, y_pred_prob_nn_3)\n",
        "fig, ax = plt.subplots(figsize=(8, 8))\n",
        "ax.plot(fpr, tpr, 'k-')\n",
        "ax.plot([0, 1], [0, 1], 'k--', linewidth=.5)  # roc curve for random model\n",
        "ax.grid(True)\n",
        "ax.set(title='ROC Curve for {} on PIMA diabetes problem'.format('NN3'),\n",
        "           xlim=[-0.01, 1.01], ylim=[-0.01, 1.01])\n"
      ]
    },
    {
      "cell_type": "code",
      "execution_count": null,
      "id": "a493d57f-362b-403d-aeac-b9116084feb4",
      "metadata": {
        "id": "a493d57f-362b-403d-aeac-b9116084feb4"
      },
      "outputs": [],
      "source": [
        ""
      ]
    },
    {
      "cell_type": "code",
      "execution_count": null,
      "id": "cc048309-cb5d-4f67-b7b9-f4aed885ad50",
      "metadata": {
        "id": "cc048309-cb5d-4f67-b7b9-f4aed885ad50"
      },
      "outputs": [],
      "source": [
        ""
      ]
    }
  ],
  "metadata": {
    "kernelspec": {
      "display_name": "Python 3 (ipykernel)",
      "language": "python",
      "name": "python3"
    },
    "language_info": {
      "codemirror_mode": {
        "name": "ipython",
        "version": 3
      },
      "file_extension": ".py",
      "mimetype": "text/x-python",
      "name": "python",
      "nbconvert_exporter": "python",
      "pygments_lexer": "ipython3",
      "version": "3.9.11"
    },
    "colab": {
      "name": "cs_05d_LAB.ipynb",
      "provenance": []
    }
  },
  "nbformat": 4,
  "nbformat_minor": 5
}